{
 "cells": [
  {
   "cell_type": "code",
   "execution_count": null,
   "metadata": {},
   "outputs": [],
   "source": [
    "import gym\n",
    "import highway_env\n",
    "import torch\n",
    "import matplotlib.pyplot as plt\n",
    "import numpy as np\n",
    "from collections import deque, namedtuple\n",
    "from dqn_agent import Agent\n",
    "\n",
    "env = gym.make(\"racetrack-v0\")\n",
    "env.reset()"
   ]
  },
  {
   "cell_type": "code",
   "execution_count": null,
   "metadata": {},
   "outputs": [],
   "source": [
    "from matplotlib import pyplot as plt\n",
    "config = {\n",
    "       \"observation\": {\n",
    "           \"type\": \"GrayscaleObservation\",\n",
    "           \"observation_shape\": (128, 64),\n",
    "           \"stack_size\": 4,\n",
    "           \"weights\": [0.2989, 0.5870, 0.1140],  # weights for RGB conversion\n",
    "           \"scaling\": 1.75,\n",
    "       },\n",
    "       \"policy_frequency\": 2\n",
    "   }\n",
    "env.configure(config)\n",
    "obs = env.reset()\n",
    "\n",
    "_, axes = plt.subplots(ncols=4, figsize=(12, 5))\n",
    "for i, ax in enumerate(axes.flat):\n",
    "    ax.imshow(obs[i, ...].T, cmap=plt.get_cmap('gray'))\n",
    "plt.show()"
   ]
  },
  {
   "cell_type": "code",
   "execution_count": null,
   "metadata": {},
   "outputs": [],
   "source": [
    "for _ in range(3):\n",
    "    action = [np.random.uniform(-1,1), np.random.uniform(-1,1)]\n",
    "    obs, _, _, _ = env.step(action)\n",
    "    _, axes = plt.subplots(ncols=4, figsize=(12, 5))\n",
    "\n",
    "    for i, ax in enumerate(axes.flat):\n",
    "        ax.imshow(obs[i, ...].T, cmap=plt.get_cmap('gray'))\n",
    "plt.show()"
   ]
  },
  {
   "cell_type": "code",
   "execution_count": null,
   "metadata": {},
   "outputs": [],
   "source": [
    "import gym\n",
    "from stable_baselines3 import DQN\n",
    "from stable_baselines3.common.vec_env import VecVideoRecorder, DummyVecEnv\n",
    "\n",
    "import highway_env\n",
    "\n",
    "\n",
    "def train_env():\n",
    "    env = gym.make('highway-fast-v0')\n",
    "    env.configure({\n",
    "        \"observation\": {\n",
    "            \"type\": \"GrayscaleObservation\",\n",
    "            \"observation_shape\": (128, 64),\n",
    "            \"stack_size\": 4,\n",
    "            \"weights\": [0.2989, 0.5870, 0.1140],  # weights for RGB conversion\n",
    "            \"scaling\": 1.75,\n",
    "        },\n",
    "    })\n",
    "    env.reset()\n",
    "    return env\n",
    "\n",
    "\n",
    "def test_env():\n",
    "    env = train_env()\n",
    "    env.configure({\"policy_frequency\": 15, \"duration\": 20 * 15})\n",
    "    env.reset()\n",
    "    return env\n",
    "\n",
    "\n",
    "if __name__ == '__main__':\n",
    "    # Train\n",
    "    model = DQN('CnnPolicy', DummyVecEnv([train_env]),\n",
    "                learning_rate=5e-4,\n",
    "                buffer_size=15000,\n",
    "                learning_starts=200,\n",
    "                batch_size=32,\n",
    "                gamma=0.8,\n",
    "                train_freq=1,\n",
    "                gradient_steps=1,\n",
    "                target_update_interval=50,\n",
    "                exploration_fraction=0.7,\n",
    "                verbose=1,\n",
    "                tensorboard_log=\"highway_cnn/\")\n",
    "    model.learn(total_timesteps=int(1e5))\n",
    "    model.save(\"highway_cnn/model\")\n",
    "\n",
    "    # Record video\n",
    "    model = DQN.load(\"highway_cnn/model\")\n",
    "\n",
    "    env = DummyVecEnv([test_env])\n",
    "    video_length = 2 * env.envs[0].config[\"duration\"]\n",
    "    env = VecVideoRecorder(env, \"highway_cnn/videos/\",\n",
    "                           record_video_trigger=lambda x: x == 0, video_length=video_length,\n",
    "                           name_prefix=\"dqn-agent\")\n",
    "    obs = env.reset()\n",
    "    for _ in range(video_length + 1):\n",
    "        action, _ = model.predict(obs)\n",
    "        obs, _, _, _ = env.step(action)\n",
    "    env.close()"
   ]
  }
 ],
 "metadata": {
  "interpreter": {
   "hash": "d5cc6a4a87dc4b3b25ba4615f4628ea484928f9572324af8a1d883d19e1da40c"
  },
  "kernelspec": {
   "display_name": "Python 3.8.8 64-bit (conda)",
   "language": "python",
   "name": "python3"
  },
  "language_info": {
   "codemirror_mode": {
    "name": "ipython",
    "version": 3
   },
   "file_extension": ".py",
   "mimetype": "text/x-python",
   "name": "python",
   "nbconvert_exporter": "python",
   "pygments_lexer": "ipython3",
   "version": "3.8.8"
  },
  "orig_nbformat": 4
 },
 "nbformat": 4,
 "nbformat_minor": 2
}
